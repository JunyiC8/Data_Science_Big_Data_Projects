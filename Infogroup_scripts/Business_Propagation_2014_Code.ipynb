{
 "cells": [
  {
   "cell_type": "code",
   "execution_count": 1,
   "metadata": {},
   "outputs": [],
   "source": [
    "import numpy as np\n",
    "import pandas as pd\n",
    "import pandasql as ps"
   ]
  },
  {
   "cell_type": "code",
   "execution_count": 2,
   "metadata": {},
   "outputs": [
    {
     "name": "stderr",
     "output_type": "stream",
     "text": [
      "b'Skipping line 2935149: expected 53 fields, saw 105\\nSkipping line 7087687: expected 53 fields, saw 105\\nSkipping line 13294462: expected 53 fields, saw 105\\n'\n"
     ]
    }
   ],
   "source": [
    "data_raw = pd.read_csv(\"/n/holyscratch01/cga/jchorapalli/input_data/infogroup/2014_Business_Academic_QCQ.txt.utf8.csv\", dtype={'FIPS Code':'str','Census Tract':'str','Census Block':'str'}, error_bad_lines= False, low_memory= False)"
   ]
  },
  {
   "cell_type": "code",
   "execution_count": 3,
   "metadata": {},
   "outputs": [
    {
     "data": {
      "text/plain": [
       "(15916897, 53)"
      ]
     },
     "execution_count": 3,
     "metadata": {},
     "output_type": "execute_result"
    }
   ],
   "source": [
    "data_raw.shape"
   ]
  },
  {
   "cell_type": "code",
   "execution_count": 4,
   "metadata": {},
   "outputs": [],
   "source": [
    "data=data_raw.dropna(subset=[\"FIPS Code\",\"Census Tract\", \"Census Block\"])"
   ]
  },
  {
   "cell_type": "code",
   "execution_count": 5,
   "metadata": {},
   "outputs": [],
   "source": [
    "data=data.reset_index(drop = True)"
   ]
  },
  {
   "cell_type": "code",
   "execution_count": 6,
   "metadata": {},
   "outputs": [],
   "source": [
    "data[\"UBI\"] =data[\"FIPS Code\"] + data[\"Census Tract\"]+ data[\"Census Block\"]"
   ]
  },
  {
   "cell_type": "code",
   "execution_count": 7,
   "metadata": {},
   "outputs": [
    {
     "data": {
      "text/plain": [
       "(15826249, 54)"
      ]
     },
     "execution_count": 7,
     "metadata": {},
     "output_type": "execute_result"
    }
   ],
   "source": [
    "data.shape"
   ]
  },
  {
   "cell_type": "code",
   "execution_count": 8,
   "metadata": {},
   "outputs": [
    {
     "data": {
      "text/plain": [
       "Index(['Company', 'Address Line 1', 'City', 'State', 'ZipCode', 'Zip4',\n",
       "       'County Code', 'Area Code', 'IDCode', 'Location Employee Size Code',\n",
       "       'Location Sales Volume Code', 'Primary SIC Code', 'SIC6_Descriptions',\n",
       "       'Primary NAICS Code', 'NAICS8 Descriptions', 'SIC Code',\n",
       "       'SIC6_Descriptions (SIC)', 'SIC Code 1', 'SIC6_Descriptions (SIC1)',\n",
       "       'SIC Code 2', 'SIC6_Descriptions(SIC2)', 'SIC Code 3',\n",
       "       'SIC6_Descriptions(SIC3)', 'SIC Code 4', 'SIC6_Descriptions(SIC4)',\n",
       "       'Archive Version Year', 'Yellow Page Code',\n",
       "       'Employee Size (5) - Location', 'Sales Volume (9) - Location',\n",
       "       'Business Status Code', 'Industry Specific First Byte',\n",
       "       'Year Established', 'Office Size Code', 'Company Holding Status', 'ABI',\n",
       "       'Subsidiary Number', 'Parent Number', 'Parent Actual Employee Size',\n",
       "       'Parent Actual Sales Volume', 'Parent Employee Size Code',\n",
       "       'Parent Sales Volume Code', 'Site Number', 'Address Type Indicator',\n",
       "       'Population Code', 'Census Tract', 'Census Block', 'Latitude',\n",
       "       'Longitude', 'Match Code', 'CBSA Code', 'CBSA Level', 'CSA Code',\n",
       "       'FIPS Code', 'UBI'],\n",
       "      dtype='object')"
      ]
     },
     "execution_count": 8,
     "metadata": {},
     "output_type": "execute_result"
    }
   ],
   "source": [
    "data.columns"
   ]
  },
  {
   "cell_type": "code",
   "execution_count": 9,
   "metadata": {},
   "outputs": [
    {
     "data": {
      "text/plain": [
       "<bound method NDFrame.head of          FIPS Code Census Tract Census Block           UBI\n",
       "0            25013       813207            4  250138132074\n",
       "1            25013       813203            1  250138132031\n",
       "2            25013       813203            5  250138132035\n",
       "3            25013       813205            5  250138132055\n",
       "4            25013       813205            5  250138132055\n",
       "...            ...          ...          ...           ...\n",
       "15826244     02130       000100            1  021300001001\n",
       "15826245     02130       000100            1  021300001001\n",
       "15826246     02130       000100            1  021300001001\n",
       "15826247     02130       000100            1  021300001001\n",
       "15826248     02130       000100            1  021300001001\n",
       "\n",
       "[15826249 rows x 4 columns]>"
      ]
     },
     "execution_count": 9,
     "metadata": {},
     "output_type": "execute_result"
    }
   ],
   "source": [
    "data[[\"FIPS Code\",\"Census Tract\", \"Census Block\",\"UBI\"]].head"
   ]
  },
  {
   "cell_type": "code",
   "execution_count": 10,
   "metadata": {},
   "outputs": [],
   "source": [
    "query2=data.groupby(['Location Sales Volume Code', 'UBI']).size().reset_index(name='counts')\n",
    "query2.to_csv(\"/n/holyscratch01/cga/jchorapalli/infogroup_results/2014/2014_Count_Business_Location_Sales_Volume_Code.csv\")"
   ]
  },
  {
   "cell_type": "code",
   "execution_count": 11,
   "metadata": {},
   "outputs": [],
   "source": [
    "query3=data.groupby([\"Location Employee Size Code\",\"UBI\"]).size().reset_index(name='counts')\n",
    "query3.to_csv(\"/n/holyscratch01/cga/jchorapalli/infogroup_results/2014/2014_Count_Business_Location_Employee_Size_Code.csv\")"
   ]
  },
  {
   "cell_type": "code",
   "execution_count": 12,
   "metadata": {},
   "outputs": [],
   "source": [
    "query4=data.groupby([\"Business Status Code\",\"UBI\"]).size().reset_index(name='counts')\n",
    "query4.to_csv(\"/n/holyscratch01/cga/jchorapalli/infogroup_results/2014/2014_Count_Business_Business_Status_Code.csv\")"
   ]
  },
  {
   "cell_type": "code",
   "execution_count": 17,
   "metadata": {},
   "outputs": [
    {
     "data": {
      "text/plain": [
       "7026735      2\"\n",
       "8069982     27\"\n",
       "14225066     8\"\n",
       "14326051     2\"\n",
       "Name: Employee Size (5) - Location, dtype: object"
      ]
     },
     "execution_count": 17,
     "metadata": {},
     "output_type": "execute_result"
    }
   ],
   "source": [
    "data_6_check=data[data[\"Employee Size (5) - Location\"].str.contains('[ \"A-Za-z]', na=False)]\n",
    "data_6_check[\"Employee Size (5) - Location\"]"
   ]
  },
  {
   "cell_type": "code",
   "execution_count": 18,
   "metadata": {},
   "outputs": [],
   "source": [
    "data_6= data[[\"Employee Size (5) - Location\"]].replace({'27\"':'27','2\"':'2','8\"':'8'}).astype(float)\n",
    "query6= data_6.describe(percentiles=[.1,.9])\n",
    "query6.to_csv(\"/n/holyscratch01/cga/jchorapalli/infogroup_results/2014/2014_Statistics_Employee_Size_Location.csv\")"
   ]
  },
  {
   "cell_type": "code",
   "execution_count": 19,
   "metadata": {},
   "outputs": [
    {
     "data": {
      "text/plain": [
       "Int64Index([], dtype='int64')"
      ]
     },
     "execution_count": 19,
     "metadata": {},
     "output_type": "execute_result"
    }
   ],
   "source": [
    "data_7_check=data[data[\"Sales Volume (9) - Location\"].str.contains('[ \"A-Za-z]', na=False)]\n",
    "data_7_check[\"Sales Volume (9) - Location\"].index"
   ]
  },
  {
   "cell_type": "code",
   "execution_count": 20,
   "metadata": {},
   "outputs": [
    {
     "data": {
      "text/plain": [
       "Int64Index([ 2630431,  3534994,  4359255,  4428083,  5207722,  8846976,\n",
       "            11944269, 13581601, 14347991],\n",
       "           dtype='int64')"
      ]
     },
     "execution_count": 20,
     "metadata": {},
     "output_type": "execute_result"
    }
   ],
   "source": [
    "data_c = data[data[\"UBI\"].str.contains('[ \"A-Za-z]',na=False)]\n",
    "data_c[\"UBI\"].index"
   ]
  },
  {
   "cell_type": "code",
   "execution_count": 21,
   "metadata": {},
   "outputs": [
    {
     "name": "stderr",
     "output_type": "stream",
     "text": [
      "/opt/conda/lib/python3.7/site-packages/ipykernel_launcher.py:5: FutureWarning: The signature of `Series.to_csv` was aligned to that of `DataFrame.to_csv`, and argument 'header' will change its default value from False to True: please pass an explicit value to suppress this warning.\n",
      "  \"\"\"\n"
     ]
    }
   ],
   "source": [
    "data_7=data.drop([2630431,  3534994,  4359255,  4428083,  5207722,  8846976,\n",
    "            11944269, 13581601, 14347991])\n",
    "query_7=data_7[\"Sales Volume (9) - Location\"].str.replace(\" \",\"\").astype(float)\n",
    "query_7= query_7.describe(percentiles=[.1,.9])\n",
    "query_7.to_csv(\"/n/holyscratch01/cga/jchorapalli/infogroup_results/2014/2014_Statistics_Sales_Volume_Location.csv\")"
   ]
  },
  {
   "cell_type": "code",
   "execution_count": 13,
   "metadata": {},
   "outputs": [],
   "source": [
    "query8=data.groupby([\"IDCode\",\"UBI\"]).size().reset_index(name='counts')\n",
    "query8.to_csv(\"/n/holyscratch01/cga/jchorapalli/infogroup_results/2014/2014_Count_Business_IDCode.csv\")"
   ]
  },
  {
   "cell_type": "code",
   "execution_count": 14,
   "metadata": {},
   "outputs": [],
   "source": [
    "query9=data.groupby([\"Primary NAICS Code\",\"UBI\"]).size().reset_index(name='counts')\n",
    "query9.to_csv(\"/n/holyscratch01/cga/jchorapalli/infogroup_results/2014/2014_Count_Business_Primary_NAICS_Code.csv\")"
   ]
  },
  {
   "cell_type": "code",
   "execution_count": 15,
   "metadata": {},
   "outputs": [],
   "source": [
    "query10=data.groupby([\"Primary SIC Code\",\"UBI\"]).size().reset_index(name='counts')\n",
    "query10.to_csv(\"/n/holyscratch01/cga/jchorapalli/infogroup_results/2014/2014_Count_Business_Primary_SIC_Code.csv\")"
   ]
  },
  {
   "cell_type": "code",
   "execution_count": 7,
   "metadata": {},
   "outputs": [],
   "source": [
    "data_11=data.drop([2630431,  3534994,  4359255,  4428083,  5207722,  8846976,\n",
    "            11944269, 13581601, 14347991])\n",
    "query_11 = data_11[[\"Sales Volume (9) - Location\", \"UBI\"]].astype({\"Sales Volume (9) - Location\":float})\n",
    "query_11= query_11.groupby([\"UBI\"]).describe(percentiles=[.1,.9])\n",
    "query_11.columns = [\"COUNT\",\"MEAN\",\"STD\",\"MIN\",\"10%\",\"50%\",\"90%\",\"MAX\"]\n",
    "query_11.to_csv(\"/n/holyscratch01/cga/jchorapalli/infogroup_results/2014/2014_Statistics_Sales_Volume_Location_Per_UBI.csv\")"
   ]
  },
  {
   "cell_type": "code",
   "execution_count": 16,
   "metadata": {},
   "outputs": [],
   "source": [
    "query12=data.groupby([\"Parent Number\",\"UBI\"]).size().reset_index(name='counts')\n",
    "query12.to_csv(\"/n/holyscratch01/cga/jchorapalli/infogroup_results/2014/2014_Count_Business_Parent_Number.csv\")"
   ]
  },
  {
   "cell_type": "code",
   "execution_count": null,
   "metadata": {},
   "outputs": [],
   "source": []
  }
 ],
 "metadata": {
  "kernelspec": {
   "display_name": "Python 3",
   "language": "python",
   "name": "python3"
  },
  "language_info": {
   "codemirror_mode": {
    "name": "ipython",
    "version": 3
   },
   "file_extension": ".py",
   "mimetype": "text/x-python",
   "name": "python",
   "nbconvert_exporter": "python",
   "pygments_lexer": "ipython3",
   "version": "3.7.3"
  }
 },
 "nbformat": 4,
 "nbformat_minor": 4
}
