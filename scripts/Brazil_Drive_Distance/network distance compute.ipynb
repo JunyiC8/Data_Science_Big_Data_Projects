{
 "cells": [
  {
   "cell_type": "markdown",
   "id": "9ef09172",
   "metadata": {},
   "source": [
    "# Network distance calulations"
   ]
  },
  {
   "cell_type": "code",
   "execution_count": 1,
   "id": "1a84cb04",
   "metadata": {
    "ExecuteTime": {
     "end_time": "2022-03-02T20:18:48.375999Z",
     "start_time": "2022-03-02T20:18:45.420890Z"
    }
   },
   "outputs": [],
   "source": [
    "\n",
    "import os\n",
    "import pandas as pd\n",
    "import osmnx as ox\n",
    "import datetime\n",
    "import numpy as np\n",
    "# from numba import jit\n",
    "\n",
    "# ox.config(use_cache=True, log_console=False)\n",
    "# @jit(nopython=True) # Set \"nopython\" mode for best performance, equivalent to @njit\n",
    "def get_unique_locations(state_data):\n",
    "    \n",
    "    # get all unique place locations in the state data, save it into a dataframe called places_dataframe\n",
    "    places_set = set()\n",
    "    for k,v in state_data.iterrows():\n",
    "        x,y = v[\"orig_lon\"],v[\"orig_lat\"]\n",
    "        x_,y_ = v[\"dest_lon\"],v[\"dest_lat\"]\n",
    "        places_set.add((x,y ))\n",
    "        places_set.add((x_,y_ ))        \n",
    "    temp = list(places_set)\n",
    "    places_dataframe = pd.DataFrame(np.array(temp),index=temp)\n",
    "    return places_dataframe\n",
    "    # places_dataframe should like follows, each row is a location in the state data set\n",
    "    #                                      0   1   \n",
    "    # (-51.071587, 0.079208098)   -51.071587  0.079208    \n",
    "    # (-51.047249, 0.067405201)   -51.047249  0.067405    \n",
    "    # (-51.179249, -0.0546593)    -51.179249  -0.054659   \n",
    "    # (-51.051659, 0.0588351) -51.051659  0.058835    \n",
    "    # (-51.07864, 0.0070496998)   -51.078640  0.007050    \n",
    "\n",
    "def create_graph(state_name):\n",
    "    # create graph\n",
    "    print(\"Creating graph...\")\n",
    "    t1 = datetime.datetime.now()\n",
    "    ox.config(use_cache=True, log_console=False)\n",
    "# create a graph from  osm, may take half an hour\n",
    "    G = ox.graph_from_place('%s, Brazil'%state_name, network_type='drive')\n",
    "    t2 = datetime.datetime.now()\n",
    "    print(\"Create graph use:\",t2-t1)\n",
    "    G = ox.speed.add_edge_speeds(G)\n",
    "    G = ox.speed.add_edge_travel_times(G)\n",
    "    \n",
    "    return G\n",
    "\n",
    "def find_nearest_nodes_in_graph(state_data,G):\n",
    "    \n",
    "    t1 = datetime.datetime.now()\n",
    "    places_dataframe = get_unique_locations(state_data)\n",
    "    # find all nearset nodes( in the graph) of the all the places (in state data set)\n",
    "    print(\"Find nearest_nodes...\")\n",
    "    nearests = ox.distance.nearest_nodes(G, places_dataframe[0].values,places_dataframe[1].values)\n",
    "    places_dataframe[\"nearest\"] = nearests\n",
    "\n",
    "    \n",
    "# prepare the all the nearset nodes of each OD, save it into  a array caleed ods\n",
    "    nearest_nodes_of_ODs = []\n",
    "    for k,v in state_data.iterrows():\n",
    "        # print(v[\"orig_lat\"],v[\"orig_lon\"])\n",
    "        # origs = ox.distance.nearest_nodes(G, v[\"orig_lat\"], v[\"orig_lon\"])\n",
    "        # dests = ox.distance.nearest_nodes(G, v[\"dest_lat\"], v[\"dest_lon\"])\n",
    "\n",
    "        x,y = v[\"orig_lon\"],v[\"orig_lat\"]\n",
    "        o = places_dataframe.loc[[(x,y)],\"nearest\"].values[0]\n",
    "        x_,y_ = v[\"dest_lon\"],v[\"dest_lat\"]\n",
    "        d = places_dataframe.loc[[(x_,y_)],\"nearest\"].values[0]\n",
    "        nearest_nodes_of_ODs.append([o,d])\n",
    "    nearest_nodes_of_ODs = np.array(nearest_nodes_of_ODs)    \n",
    "\n",
    "    t2 = datetime.datetime.now()\n",
    "    print(\"Find nearest_nodes use\",t2-t1)    \n",
    "    return nearest_nodes_of_ODs\n",
    "\n",
    "\n",
    "def get_shortest_path(state_data,state_name):\n",
    "\n",
    "    G = create_graph(state_name)\n",
    "    nearest_nodes_of_ODs = find_nearest_nodes_in_graph(state_data,G)\n",
    "\n",
    "    t3 =  datetime.datetime.now()\n",
    "    # use osmox to find  all the shortest paths between all the ODs in the state data set, \n",
    "    # use multi-processing with the cpus parameters\n",
    "    print(\"Finding the shortest path...\")\n",
    "    routes = ox.shortest_path(G, nearest_nodes_of_ODs[:,0], nearest_nodes_of_ODs[:,1], weight=\"travel_time\", cpus=16)\n",
    "    t4 =  datetime.datetime.now()\n",
    "    print(\"Done use:\",t4-t3)\n",
    "    # caclulate all the total distances in each shortest paths, save these distance into state \n",
    "    # data set and be read to save it\n",
    "    total_distance_list = []\n",
    "    for route in routes:\n",
    "        edge_lengths = ox.utils_graph.get_route_edge_attributes(G, route, \"length\")\n",
    "        total_distance = sum(edge_lengths)\n",
    "        total_distance_list.append(total_distance)\n",
    "\n",
    "#     \n",
    "    state_data[\"shortest drive distance\"] = total_distance_list\n",
    "\n",
    "    return state_data\n",
    "\n",
    "\n"
   ]
  },
  {
   "cell_type": "code",
   "execution_count": null,
   "id": "81eeb0e4",
   "metadata": {
    "ExecuteTime": {
     "start_time": "2022-03-02T20:18:52.236Z"
    }
   },
   "outputs": [
    {
     "name": "stdout",
     "output_type": "stream",
     "text": [
      "{'Minas Gerais.csv', 'Ceará.csv', 'Tocantins.csv', 'São Paulo.csv', 'Bahia.csv', 'Alagoas.csv'}\n",
      "2022-03-03 21:31:55.740387 State processing... Minas Gerais 297270 ****************************** 23\n",
      "Creating graph...\n"
     ]
    },
    {
     "name": "stderr",
     "output_type": "stream",
     "text": [
      "/n/home11/xiaokangfu/.conda/envs/geo_tweets_xiaokang/envs/ox_kang/lib/python3.9/site-packages/osmnx/geocoder.py:110: FutureWarning: The frame.append method is deprecated and will be removed from pandas in a future version. Use pandas.concat instead.\n",
      "  gdf = gdf.append(_geocode_query_to_gdf(q, wr, by_osmid))\n"
     ]
    },
    {
     "name": "stdout",
     "output_type": "stream",
     "text": [
      "Create graph use: 0:47:11.153315\n",
      "Find nearest_nodes...\n",
      "Find nearest_nodes use 0:03:59.058540\n",
      "Finding the shortest path...\n"
     ]
    }
   ],
   "source": [
    "import os\n",
    "out_path =  \"./data/data/\"\n",
    "state_cvs_path = \"./data/data/state_cvs/\"\n",
    "need_process = set(os.listdir(state_cvs_path)) - set(os.listdir(out_path+\"state_csv_with_distance\"))\n",
    "print(need_process)\n",
    "# 12 have error in this machine\n",
    "# 15 have many errors\n",
    "# start = 25\n",
    "for i,file_name in enumerate(os.listdir(state_cvs_path)):\n",
    "    # if i < start:\n",
    "    #     continue\n",
    "    if file_name not in need_process:\n",
    "        continue\n",
    "    if \".ipynb_checkpoints\" in file_name:\n",
    "        continue    \n",
    "    t0 =  datetime.datetime.now()\n",
    "#     read data\n",
    "    state_name = file_name.split(\".\")[0] \n",
    "    \n",
    "    if state_name != \"Minas Gerais\":\n",
    "        continue\n",
    "\n",
    "    # read data in one state\n",
    "    state_data = pd.read_csv(state_cvs_path+file_name,index_col=0)\n",
    "    state_data = state_data[['cep', 'cnes', 'tot', 'orig_lat', 'orig_lon', 'dest_lat', 'dest_lon']]\n",
    "    # state_data = state_data.sample(100,random_state=3)\n",
    "    print(t0,\"State processing...\",state_name,state_data.shape[0],\"*\"*30,i)\n",
    "\n",
    "    \n",
    "    # state_data = get_shortest_path(state_data,state_name)\n",
    "# ------------------------------------------------------------------\n",
    "    G = create_graph(state_name)\n",
    "    nearest_nodes_of_ODs = find_nearest_nodes_in_graph(state_data,G)\n",
    "\n",
    "    t3 =  datetime.datetime.now()\n",
    "    # use osmox to find  all the shortest paths between all the ODs in the state data set, \n",
    "    # use multi-processing with the cpus parameters\n",
    "    print(\"Finding the shortest path...\")\n",
    "    routes = ox.shortest_path(G, nearest_nodes_of_ODs[:,0], nearest_nodes_of_ODs[:,1], weight=\"travel_time\", cpus=2)\n",
    "    t4 =  datetime.datetime.now()\n",
    "    print(\"Done use:\",t4-t3)\n",
    "    # caclulate all the total distances in each shortest paths, save these distance into state \n",
    "    # data set and be read to save it\n",
    "    total_distance_list = []\n",
    "    for route in routes:\n",
    "        try:\n",
    "            edge_lengths = ox.utils_graph.get_route_edge_attributes(G, route, \"length\")\n",
    "            total_distance = sum(edge_lengths)\n",
    "        except Exception as e:\n",
    "            print(e)\n",
    "            total_distance = None\n",
    "            \n",
    "        total_distance_list.append(total_distance)\n",
    " \n",
    "    state_data[\"shortest drive distance\"] = total_distance_list\n",
    "# --------------------------------------------------------------------------\n",
    "    \n",
    "    \n",
    "    \n",
    "    \n",
    "    \n",
    "    print(datetime.datetime.now(),\"writing result...\")\n",
    "    state_data.to_csv(out_path + \"state_csv_with_distance/%s\"%file_name)\n",
    "    t10 =  datetime.datetime.now()\n",
    "\n",
    "    print(state_name,\"done use\",t10-t0)\n",
    "\n"
   ]
  },
  {
   "cell_type": "code",
   "execution_count": null,
   "id": "6a2a57c9",
   "metadata": {},
   "outputs": [],
   "source": []
  }
 ],
 "metadata": {
  "hide_input": false,
  "kernelspec": {
   "display_name": "Python [conda env:geo_tweets_xiaokang-ox_kang]",
   "language": "python",
   "name": "conda-env-geo_tweets_xiaokang-ox_kang-py"
  },
  "language_info": {
   "codemirror_mode": {
    "name": "ipython",
    "version": 3
   },
   "file_extension": ".py",
   "mimetype": "text/x-python",
   "name": "python",
   "nbconvert_exporter": "python",
   "pygments_lexer": "ipython3",
   "version": "3.9.0"
  },
  "toc": {
   "base_numbering": 1,
   "nav_menu": {},
   "number_sections": true,
   "sideBar": true,
   "skip_h1_title": false,
   "title_cell": "Table of Contents",
   "title_sidebar": "Contents",
   "toc_cell": false,
   "toc_position": {},
   "toc_section_display": true,
   "toc_window_display": true
  },
  "varInspector": {
   "cols": {
    "lenName": 16,
    "lenType": 16,
    "lenVar": 40
   },
   "kernels_config": {
    "python": {
     "delete_cmd_postfix": "",
     "delete_cmd_prefix": "del ",
     "library": "var_list.py",
     "varRefreshCmd": "print(var_dic_list())"
    },
    "r": {
     "delete_cmd_postfix": ") ",
     "delete_cmd_prefix": "rm(",
     "library": "var_list.r",
     "varRefreshCmd": "cat(var_dic_list()) "
    }
   },
   "types_to_exclude": [
    "module",
    "function",
    "builtin_function_or_method",
    "instance",
    "_Feature"
   ],
   "window_display": false
  }
 },
 "nbformat": 4,
 "nbformat_minor": 5
}
