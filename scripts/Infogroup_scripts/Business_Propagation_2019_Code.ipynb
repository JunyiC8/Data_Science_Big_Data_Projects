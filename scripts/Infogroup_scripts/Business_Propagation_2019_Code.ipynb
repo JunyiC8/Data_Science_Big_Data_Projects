{
 "cells": [
  {
   "cell_type": "code",
   "execution_count": 1,
   "metadata": {},
   "outputs": [],
   "source": [
    "import numpy as np\n",
    "import pandas as pd\n",
    "import pandasql as ps"
   ]
  },
  {
   "cell_type": "code",
   "execution_count": 2,
   "metadata": {},
   "outputs": [
    {
     "name": "stderr",
     "output_type": "stream",
     "text": [
      "b'Skipping line 1923550: expected 53 fields, saw 105\\nSkipping line 3275792: expected 53 fields, saw 105\\nSkipping line 3619587: expected 53 fields, saw 105\\nSkipping line 4033499: expected 53 fields, saw 105\\nSkipping line 4635226: expected 53 fields, saw 105\\nSkipping line 4885951: expected 53 fields, saw 105\\nSkipping line 5606931: expected 53 fields, saw 105\\nSkipping line 5686467: expected 53 fields, saw 104\\nSkipping line 7367002: expected 53 fields, saw 54\\nSkipping line 7795413: expected 53 fields, saw 54\\nSkipping line 7927790: expected 53 fields, saw 105\\nSkipping line 8075545: expected 53 fields, saw 105\\nSkipping line 8349102: expected 53 fields, saw 105\\nSkipping line 8621508: expected 53 fields, saw 105\\nSkipping line 8889033: expected 53 fields, saw 105\\nSkipping line 8953116: expected 53 fields, saw 105\\nSkipping line 9951953: expected 53 fields, saw 105\\nSkipping line 10810564: expected 53 fields, saw 105\\nSkipping line 10831636: expected 53 fields, saw 105\\nSkipping line 11541737: expected 53 fields, saw 105\\nSkipping line 11585985: expected 53 fields, saw 105\\nSkipping line 11740015: expected 53 fields, saw 105\\nSkipping line 12081991: expected 53 fields, saw 105\\nSkipping line 14404391: expected 53 fields, saw 105\\nSkipping line 14839445: expected 53 fields, saw 105\\nSkipping line 14976714: expected 53 fields, saw 54\\nSkipping line 15053816: expected 53 fields, saw 105\\nSkipping line 15374000: expected 53 fields, saw 105\\n'\n"
     ]
    }
   ],
   "source": [
    "data_raw = pd.read_csv(\"/n/holyscratch01/cga/jchorapalli/input_data/infogroup/2019_Business_Academic_QCQ.txt.utf8.csv\", dtype={'FIPS Code':'str','Census Tract':'str','Census Block':'str'}, error_bad_lines= False, low_memory= False)"
   ]
  },
  {
   "cell_type": "code",
   "execution_count": 3,
   "metadata": {},
   "outputs": [
    {
     "data": {
      "text/plain": [
       "(15496701, 53)"
      ]
     },
     "execution_count": 3,
     "metadata": {},
     "output_type": "execute_result"
    }
   ],
   "source": [
    "data_raw.shape"
   ]
  },
  {
   "cell_type": "code",
   "execution_count": 4,
   "metadata": {},
   "outputs": [],
   "source": [
    "data=data_raw.dropna(subset=[\"FIPS Code\",\"Census Tract\", \"Census Block\"])"
   ]
  },
  {
   "cell_type": "code",
   "execution_count": 5,
   "metadata": {},
   "outputs": [],
   "source": [
    "data=data.reset_index(drop = True)"
   ]
  },
  {
   "cell_type": "code",
   "execution_count": 6,
   "metadata": {},
   "outputs": [],
   "source": [
    "data[\"UBI\"] =data[\"FIPS Code\"] + data[\"Census Tract\"]+ data[\"Census Block\"]"
   ]
  },
  {
   "cell_type": "code",
   "execution_count": 7,
   "metadata": {},
   "outputs": [
    {
     "data": {
      "text/plain": [
       "(15490804, 54)"
      ]
     },
     "execution_count": 7,
     "metadata": {},
     "output_type": "execute_result"
    }
   ],
   "source": [
    "data.shape"
   ]
  },
  {
   "cell_type": "code",
   "execution_count": 8,
   "metadata": {},
   "outputs": [
    {
     "data": {
      "text/plain": [
       "Index(['Company', 'Address Line 1', 'City', 'State', 'ZipCode', 'Zip4',\n",
       "       'County Code', 'Area Code', 'IDCode', 'Location Employee Size Code',\n",
       "       'Location Sales Volume Code', 'Primary SIC Code', 'SIC6_Descriptions',\n",
       "       'Primary NAICS Code', 'NAICS8 Descriptions', 'SIC Code',\n",
       "       'SIC6_Descriptions (SIC)', 'SIC Code 1', 'SIC6_Descriptions (SIC1)',\n",
       "       'SIC Code 2', 'SIC6_Descriptions(SIC2)', 'SIC Code 3',\n",
       "       'SIC6_Descriptions(SIC3)', 'SIC Code 4', 'SIC6_Descriptions(SIC4)',\n",
       "       'Archive Version Year', 'Yellow Page Code',\n",
       "       'Employee Size (5) - Location', 'Sales Volume (9) - Location',\n",
       "       'Business Status Code', 'Industry Specific First Byte',\n",
       "       'Year Established', 'Office Size Code', 'Company Holding Status', 'ABI',\n",
       "       'Subsidiary Number', 'Parent Number', 'Parent Actual Employee Size',\n",
       "       'Parent Actual Sales Volume', 'Parent Employee Size Code',\n",
       "       'Parent Sales Volume Code', 'Site Number', 'Address Type Indicator',\n",
       "       'Population Code', 'Census Tract', 'Census Block', 'Latitude',\n",
       "       'Longitude', 'Match Code', 'CBSA Code', 'CBSA Level', 'CSA Code',\n",
       "       'FIPS Code', 'UBI'],\n",
       "      dtype='object')"
      ]
     },
     "execution_count": 8,
     "metadata": {},
     "output_type": "execute_result"
    }
   ],
   "source": [
    "data.columns"
   ]
  },
  {
   "cell_type": "code",
   "execution_count": 9,
   "metadata": {},
   "outputs": [
    {
     "data": {
      "text/plain": [
       "<bound method NDFrame.head of          FIPS Code Census Tract Census Block           UBI\n",
       "0            72001       956700            1  720019567001\n",
       "1            72001       071700            1  720010717001\n",
       "2            72001       071700            1  720010717001\n",
       "3            72001       956700            2  720019567002\n",
       "4            72001       071700            1  720010717001\n",
       "...            ...          ...          ...           ...\n",
       "15490799     02130       000100            1  021300001001\n",
       "15490800     02130       000100            1  021300001001\n",
       "15490801     02130       000100            1  021300001001\n",
       "15490802     02130       000100            1  021300001001\n",
       "15490803     02130       000100            1  021300001001\n",
       "\n",
       "[15490804 rows x 4 columns]>"
      ]
     },
     "execution_count": 9,
     "metadata": {},
     "output_type": "execute_result"
    }
   ],
   "source": [
    "data[[\"FIPS Code\",\"Census Tract\", \"Census Block\",\"UBI\"]].head"
   ]
  },
  {
   "cell_type": "code",
   "execution_count": 10,
   "metadata": {},
   "outputs": [],
   "source": [
    "query2=data.groupby(['Location Sales Volume Code', 'UBI']).size().reset_index(name='counts')\n",
    "query2.to_csv(\"/n/holyscratch01/cga/jchorapalli/infogroup_results/2019/2019_Count_Business_Location_Sales_Volume_Code.csv\")"
   ]
  },
  {
   "cell_type": "code",
   "execution_count": 11,
   "metadata": {},
   "outputs": [],
   "source": [
    "query3=data.groupby([\"Location Employee Size Code\",\"UBI\"]).size().reset_index(name='counts')\n",
    "query3.to_csv(\"/n/holyscratch01/cga/jchorapalli/infogroup_results/2019/2019_Count_Business_Location_Employee_Size_Code.csv\")"
   ]
  },
  {
   "cell_type": "code",
   "execution_count": 12,
   "metadata": {},
   "outputs": [],
   "source": [
    "query4=data.groupby([\"Business Status Code\",\"UBI\"]).size().reset_index(name='counts')\n",
    "query4.to_csv(\"/n/holyscratch01/cga/jchorapalli/infogroup_results/2019/2019_Count_Business_Business_Status_Code.csv\")"
   ]
  },
  {
   "cell_type": "code",
   "execution_count": 17,
   "metadata": {},
   "outputs": [
    {
     "data": {
      "text/plain": [
       "1624741      2\"\n",
       "2288587      7\"\n",
       "2671449      2\"\n",
       "4308327     16\"\n",
       "4397618      2\"\n",
       "6564850      3\"\n",
       "6716149      6\"\n",
       "6971052      7\"\n",
       "8260893      9\"\n",
       "9766315     13\"\n",
       "12381057     2\"\n",
       "13298493     2\"\n",
       "13436582     6\"\n",
       "Name: Employee Size (5) - Location, dtype: object"
      ]
     },
     "execution_count": 17,
     "metadata": {},
     "output_type": "execute_result"
    }
   ],
   "source": [
    "data_6_check=data[data[\"Employee Size (5) - Location\"].str.contains('[ \"A-Za-z]', na=False)]\n",
    "data_6_check[\"Employee Size (5) - Location\"]"
   ]
  },
  {
   "cell_type": "code",
   "execution_count": 18,
   "metadata": {},
   "outputs": [],
   "source": [
    "data_6= data[[\"Employee Size (5) - Location\"]].replace({'2\"':'2','3\"':'3','7\"':'7','16\"':'16','3\"':'3','6\"':'6','9\"':'9','13\"':'13'}).astype(float)\n",
    "query6= data_6.describe(percentiles=[.1,.9])\n",
    "query6.to_csv(\"/n/holyscratch01/cga/jchorapalli/infogroup_results/2019/2019_Statistics_Employee_Size_Location.csv\")"
   ]
  },
  {
   "cell_type": "code",
   "execution_count": 22,
   "metadata": {},
   "outputs": [
    {
     "data": {
      "text/plain": [
       "Int64Index([  589154,  1844471,  3410492,  4083786,  4292671,  5909724,\n",
       "             5969048,  6531686,  6738242,  6998970,  7012524,  7264421,\n",
       "             7607254,  8510487,  9904442, 11306678, 11412543, 11452111,\n",
       "            13757759],\n",
       "           dtype='int64')"
      ]
     },
     "execution_count": 22,
     "metadata": {},
     "output_type": "execute_result"
    }
   ],
   "source": [
    "data_7_check=data[data[\"Sales Volume (9) - Location\"].str.contains('[ \"A-Za-z]', na=False)]\n",
    "data_7_check[\"Sales Volume (9) - Location\"].index"
   ]
  },
  {
   "cell_type": "code",
   "execution_count": 24,
   "metadata": {},
   "outputs": [
    {
     "data": {
      "text/plain": [
       "Int64Index([   85821,  1080043,  1569746,  1964200,  1977269,  2033388,\n",
       "             2262748,  2456221,  2681771,  2818096,  3016046,  3222013,\n",
       "             3484934,  3561378,  3649877,  3663297,  3726144,  3760936,\n",
       "             3792752,  3870864,  4108420,  4420552,  4451562,  4722286,\n",
       "             5895897,  6048132,  6158373,  6771070,  6791340,  6811209,\n",
       "             6934885,  6937633,  7152763,  7163497,  7236523,  7931493,\n",
       "             8219355,  8227972,  8260465,  8301613,  8442900,  8500201,\n",
       "             8862141,  8936304,  8981888,  9214230,  9282037,  9308168,\n",
       "             9377162,  9440910,  9718661,  9808654, 10333916, 10449465,\n",
       "            10474145, 10947969, 11375951, 11446949, 11462389, 11774121,\n",
       "            12941047, 12946820, 13605832, 13712373, 13803627, 13806966,\n",
       "            13969328, 14498243, 14632191, 14936832],\n",
       "           dtype='int64')"
      ]
     },
     "execution_count": 24,
     "metadata": {},
     "output_type": "execute_result"
    }
   ],
   "source": [
    "data_c = data[data[\"UBI\"].str.contains('[ \"A-Za-z]',na=False)]\n",
    "data_c[\"UBI\"].index"
   ]
  },
  {
   "cell_type": "code",
   "execution_count": 25,
   "metadata": {},
   "outputs": [
    {
     "name": "stderr",
     "output_type": "stream",
     "text": [
      "/opt/conda/lib/python3.7/site-packages/ipykernel_launcher.py:18: FutureWarning: The signature of `Series.to_csv` was aligned to that of `DataFrame.to_csv`, and argument 'header' will change its default value from False to True: please pass an explicit value to suppress this warning.\n"
     ]
    }
   ],
   "source": [
    "data_7=data.drop([85821,  1080043,  1569746,  1964200,  1977269,  2033388,\n",
    "             2262748,  2456221,  2681771,  2818096,  3016046,  3222013,\n",
    "             3484934,  3561378,  3649877,  3663297,  3726144,  3760936,\n",
    "             3792752,  3870864,  4108420,  4420552,  4451562,  4722286,\n",
    "             5895897,  6048132,  6158373,  6771070,  6791340,  6811209,\n",
    "             6934885,  6937633,  7152763,  7163497,  7236523,  7931493,\n",
    "             8219355,  8227972,  8260465,  8301613,  8442900,  8500201,\n",
    "             8862141,  8936304,  8981888,  9214230,  9282037,  9308168,\n",
    "             9377162,  9440910,  9718661,  9808654, 10333916, 10449465,\n",
    "            10474145, 10947969, 11375951, 11446949, 11462389, 11774121,\n",
    "            12941047, 12946820, 13605832, 13712373, 13803627, 13806966,\n",
    "            13969328, 14498243, 14632191, 14936832, 589154,  1844471,  3410492,  4083786,  4292671,  5909724,\n",
    "             5969048,  6531686,  6738242,  6998970,  7012524,  7264421,\n",
    "             7607254,  8510487,  9904442, 11306678, 11412543, 11452111,\n",
    "            13757759])\n",
    "query_7=data_7[\"Sales Volume (9) - Location\"].str.replace(\" \",\"\").astype(float)\n",
    "query_7= query_7.describe(percentiles=[.1,.9])\n",
    "query_7.to_csv(\"/n/holyscratch01/cga/jchorapalli/infogroup_results/2019/2019_Statistics_Sales_Volume_Location.csv\")"
   ]
  },
  {
   "cell_type": "code",
   "execution_count": 13,
   "metadata": {},
   "outputs": [],
   "source": [
    "query8=data.groupby([\"IDCode\",\"UBI\"]).size().reset_index(name='counts')\n",
    "query8.to_csv(\"/n/holyscratch01/cga/jchorapalli/infogroup_results/2019/2019_Count_Business_IDCode.csv\")"
   ]
  },
  {
   "cell_type": "code",
   "execution_count": 14,
   "metadata": {},
   "outputs": [],
   "source": [
    "query9=data.groupby([\"Primary NAICS Code\",\"UBI\"]).size().reset_index(name='counts')\n",
    "query9.to_csv(\"/n/holyscratch01/cga/jchorapalli/infogroup_results/2019/2019_Count_Business_Primary_NAICS_Code.csv\")"
   ]
  },
  {
   "cell_type": "code",
   "execution_count": 15,
   "metadata": {},
   "outputs": [],
   "source": [
    "query10=data.groupby([\"Primary SIC Code\",\"UBI\"]).size().reset_index(name='counts')\n",
    "query10.to_csv(\"/n/holyscratch01/cga/jchorapalli/infogroup_results/2019/2019_Count_Business_Primary_SIC_Code.csv\")"
   ]
  },
  {
   "cell_type": "code",
   "execution_count": 7,
   "metadata": {},
   "outputs": [],
   "source": [
    "data_11=data.drop([85821,  1080043,  1569746,  1964200,  1977269,  2033388,\n",
    "             2262748,  2456221,  2681771,  2818096,  3016046,  3222013,\n",
    "             3484934,  3561378,  3649877,  3663297,  3726144,  3760936,\n",
    "             3792752,  3870864,  4108420,  4420552,  4451562,  4722286,\n",
    "             5895897,  6048132,  6158373,  6771070,  6791340,  6811209,\n",
    "             6934885,  6937633,  7152763,  7163497,  7236523,  7931493,\n",
    "             8219355,  8227972,  8260465,  8301613,  8442900,  8500201,\n",
    "             8862141,  8936304,  8981888,  9214230,  9282037,  9308168,\n",
    "             9377162,  9440910,  9718661,  9808654, 10333916, 10449465,\n",
    "            10474145, 10947969, 11375951, 11446949, 11462389, 11774121,\n",
    "            12941047, 12946820, 13605832, 13712373, 13803627, 13806966,\n",
    "            13969328, 14498243, 14632191, 14936832, 589154,  1844471,  3410492,  4083786,  4292671,  5909724,\n",
    "             5969048,  6531686,  6738242,  6998970,  7012524,  7264421,\n",
    "             7607254,  8510487,  9904442, 11306678, 11412543, 11452111,\n",
    "            13757759])\n",
    "query_11 = data_11[[\"Sales Volume (9) - Location\", \"UBI\"]].astype({\"Sales Volume (9) - Location\":float})\n",
    "query_11= query_11.groupby([\"UBI\"]).describe(percentiles=[.1,.9])\n",
    "query_11.columns = [\"COUNT\",\"MEAN\",\"STD\",\"MIN\",\"10%\",\"50%\",\"90%\",\"MAX\"]\n",
    "query_11.to_csv(\"/n/holyscratch01/cga/jchorapalli/infogroup_results/2019/2019_Statistics_Sales_Volume_Location_Per_UBI.csv\")"
   ]
  },
  {
   "cell_type": "code",
   "execution_count": 16,
   "metadata": {},
   "outputs": [],
   "source": [
    "query12=data.groupby([\"Parent Number\",\"UBI\"]).size().reset_index(name='counts')\n",
    "query12.to_csv(\"/n/holyscratch01/cga/jchorapalli/infogroup_results/2019/2019_Count_Business_Parent_Number.csv\")"
   ]
  }
 ],
 "metadata": {
  "kernelspec": {
   "display_name": "Python 3",
   "language": "python",
   "name": "python3"
  },
  "language_info": {
   "codemirror_mode": {
    "name": "ipython",
    "version": 3
   },
   "file_extension": ".py",
   "mimetype": "text/x-python",
   "name": "python",
   "nbconvert_exporter": "python",
   "pygments_lexer": "ipython3",
   "version": "3.7.3"
  }
 },
 "nbformat": 4,
 "nbformat_minor": 4
}
